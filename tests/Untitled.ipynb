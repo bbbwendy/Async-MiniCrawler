{
 "cells": [
  {
   "cell_type": "code",
   "execution_count": 1,
   "metadata": {},
   "outputs": [
    {
     "ename": "ModuleNotFoundError",
     "evalue": "No module named 'main'",
     "output_type": "error",
     "traceback": [
      "\u001b[1;31m---------------------------------------------------------------------------\u001b[0m",
      "\u001b[1;31mModuleNotFoundError\u001b[0m                       Traceback (most recent call last)",
      "\u001b[1;32m~\\AppData\\Local\\Temp\\ipykernel_18084\\2171111831.py\u001b[0m in \u001b[0;36m<module>\u001b[1;34m\u001b[0m\n\u001b[0;32m      7\u001b[0m \u001b[1;33m\u001b[0m\u001b[0m\n\u001b[0;32m      8\u001b[0m \u001b[1;31m# 导入测试需要的模块\u001b[0m\u001b[1;33m\u001b[0m\u001b[1;33m\u001b[0m\u001b[1;33m\u001b[0m\u001b[0m\n\u001b[1;32m----> 9\u001b[1;33m \u001b[1;32mfrom\u001b[0m \u001b[0mmain\u001b[0m \u001b[1;32mimport\u001b[0m \u001b[0mPageParser\u001b[0m\u001b[1;33m,\u001b[0m \u001b[0mAsyncCrawler\u001b[0m\u001b[1;33m\u001b[0m\u001b[1;33m\u001b[0m\u001b[0m\n\u001b[0m\u001b[0;32m     10\u001b[0m \u001b[1;32mimport\u001b[0m \u001b[0masyncio\u001b[0m\u001b[1;33m\u001b[0m\u001b[1;33m\u001b[0m\u001b[0m\n\u001b[0;32m     11\u001b[0m \u001b[1;33m\u001b[0m\u001b[0m\n",
      "\u001b[1;31mModuleNotFoundError\u001b[0m: No module named 'main'"
     ]
    }
   ],
   "source": [
    "# 在Notebook中直接运行测试\n",
    "import sys\n",
    "import os\n",
    "\n",
    "# 添加当前目录到Python路径\n",
    "sys.path.insert(0, os.getcwd())\n",
    "\n",
    "# 导入测试需要的模块\n",
    "from main import PageParser, AsyncCrawler\n",
    "import asyncio\n",
    "\n",
    "# 创建测试函数\n",
    "def run_tests_in_notebook():\n",
    "    \"\"\"在Notebook中运行测试\"\"\"\n",
    "    print(\"开始在Jupyter Notebook中运行测试...\\n\")\n",
    "    \n",
    "    parser = PageParser()\n",
    "    \n",
    "    # 测试1: 解析名言页面\n",
    "    print(\"1. 测试名言页面解析...\")\n",
    "    with open('tests/fixtures/quotes_page1.html', 'r', encoding='utf-8') as f:\n",
    "        quotes_html = f.read()\n",
    "    \n",
    "    quotes, next_url = parser.parse_quotes(quotes_html, 'http://test.com')\n",
    "    print(f\"   解析结果: {len(quotes)} 条名言\")\n",
    "    if quotes:\n",
    "        print(f\"   第一条名言: {quotes[0]['text']}\")\n",
    "        print(f\"   作者: {quotes[0]['author']}\")\n",
    "        print(f\"   标签: {quotes[0]['tags']}\")\n",
    "    print(f\"   下一页URL: {next_url}\")\n",
    "    print(\"   ✓ 名言解析测试完成\\n\")\n",
    "    \n",
    "    # 测试2: 解析图书页面\n",
    "    print(\"2. 测试图书页面解析...\")\n",
    "    with open('tests/fixtures/books_page1.html', 'r', encoding='utf-8') as f:\n",
    "        books_html = f.read()\n",
    "    \n",
    "    books, next_url = parser.parse_books(books_html, 'http://test.com')\n",
    "    print(f\"   解析结果: {len(books)} 本图书\")\n",
    "    if books:\n",
    "        print(f\"   第一本图书: {books[0]['title']}\")\n",
    "        print(f\"   价格: {books[0]['price']}\")\n",
    "        print(f\"   库存: {books[0]['stock']}\")\n",
    "        print(f\"   评分: {books[0]['rating']}\")\n",
    "    print(f\"   下一页URL: {next_url}\")\n",
    "    print(\"    图书解析测试完成\\n\")\n",
    "    \n",
    "    # 测试3: 爬虫初始化\n",
    "    print(\"3. 测试爬虫初始化...\")\n",
    "    quotes_crawler = AsyncCrawler('quotes', concurrency=2, max_pages=5)\n",
    "    books_crawler = AsyncCrawler('books', concurrency=3, max_pages=10)\n",
    "    \n",
    "    print(f\"   Quotes爬虫: site={quotes_crawler.site}, base_url={quotes_crawler.base_url}\")\n",
    "    print(f\"   Books爬虫: site={books_crawler.site}, base_url={books_crawler.base_url}\")\n",
    "    print(\"    爬虫初始化测试完成\\n\")\n",
    "    \n",
    "    print(\" 所有测试在Notebook中运行完成!\")\n",
    "\n",
    "# 运行测试\n",
    "run_tests_in_notebook()"
   ]
  },
  {
   "cell_type": "code",
   "execution_count": null,
   "metadata": {},
   "outputs": [],
   "source": []
  }
 ],
 "metadata": {
  "kernelspec": {
   "display_name": "Python (pytorch)",
   "language": "python",
   "name": "pytorch"
  },
  "language_info": {
   "codemirror_mode": {
    "name": "ipython",
    "version": 3
   },
   "file_extension": ".py",
   "mimetype": "text/x-python",
   "name": "python",
   "nbconvert_exporter": "python",
   "pygments_lexer": "ipython3",
   "version": "3.7.16"
  }
 },
 "nbformat": 4,
 "nbformat_minor": 2
}
